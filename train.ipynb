{
 "metadata": {
  "language_info": {
   "codemirror_mode": {
    "name": "ipython",
    "version": 3
   },
   "file_extension": ".py",
   "mimetype": "text/x-python",
   "name": "python",
   "nbconvert_exporter": "python",
   "pygments_lexer": "ipython3",
   "version": "3.7.6-final"
  },
  "orig_nbformat": 2,
  "kernelspec": {
   "name": "python3",
   "display_name": "Python 3",
   "language": "python"
  }
 },
 "nbformat": 4,
 "nbformat_minor": 2,
 "cells": [
  {
   "source": [
    "# ML Model persistence\n",
    "\n",
    "## Train\n",
    "\n",
    "https://scikit-learn.org/stable/modules/model_persistence.html"
   ],
   "cell_type": "markdown",
   "metadata": {}
  },
  {
   "cell_type": "code",
   "execution_count": 1,
   "metadata": {},
   "outputs": [
    {
     "output_type": "execute_result",
     "data": {
      "text/plain": [
       "SVC(C=1.0, break_ties=False, cache_size=200, class_weight=None, coef0=0.0,\n",
       "    decision_function_shape='ovr', degree=3, gamma='scale', kernel='rbf',\n",
       "    max_iter=-1, probability=False, random_state=None, shrinking=True,\n",
       "    tol=0.001, verbose=False)"
      ]
     },
     "metadata": {},
     "execution_count": 1
    }
   ],
   "source": [
    "# irisSVM\n",
    "\n",
    "from sklearn import svm\n",
    "from sklearn import datasets\n",
    "clf = svm.SVC()\n",
    "X, y= datasets.load_iris(return_X_y=True)\n",
    "clf.fit(X, y)"
   ]
  },
  {
   "cell_type": "code",
   "execution_count": 4,
   "metadata": {},
   "outputs": [
    {
     "output_type": "execute_result",
     "data": {
      "text/plain": [
       "array([[5.1, 3.5, 1.4, 0.2]])"
      ]
     },
     "metadata": {},
     "execution_count": 4
    }
   ],
   "source": [
    "X[0:1]"
   ]
  },
  {
   "cell_type": "code",
   "execution_count": 6,
   "metadata": {},
   "outputs": [
    {
     "output_type": "execute_result",
     "data": {
      "text/plain": [
       "[[5.1, 3.5, 1.4, 0.2]]"
      ]
     },
     "metadata": {},
     "execution_count": 6
    }
   ],
   "source": [
    "X[0:1].tolist()"
   ]
  },
  {
   "cell_type": "code",
   "execution_count": 11,
   "metadata": {},
   "outputs": [
    {
     "output_type": "execute_result",
     "data": {
      "text/plain": [
       "'[[5.1, 3.5, 1.4, 0.2]]'"
      ]
     },
     "metadata": {},
     "execution_count": 11
    }
   ],
   "source": [
    "import json\n",
    "json.dumps(X[0:1].tolist())"
   ]
  },
  {
   "source": [
    "## pickle\n",
    "https://realpython.com/python-pickle-module/"
   ],
   "cell_type": "markdown",
   "metadata": {}
  },
  {
   "cell_type": "code",
   "execution_count": 8,
   "metadata": {},
   "outputs": [],
   "source": [
    "import pickle\n",
    "s = pickle.dumps(clf)"
   ]
  },
  {
   "cell_type": "code",
   "execution_count": 9,
   "metadata": {},
   "outputs": [],
   "source": [
    "with open(\"irisSVM.pkl\",\"wb\") as f:\n",
    "    f.write(s)"
   ]
  },
  {
   "cell_type": "code",
   "execution_count": null,
   "metadata": {},
   "outputs": [],
   "source": [
    "clf2 = pickle.loads(s)\n",
    "clf2.predict(X[0:1])"
   ]
  },
  {
   "cell_type": "code",
   "execution_count": 3,
   "metadata": {},
   "outputs": [
    {
     "output_type": "execute_result",
     "data": {
      "text/plain": [
       "0"
      ]
     },
     "metadata": {},
     "execution_count": 3
    }
   ],
   "source": [
    "y[0]"
   ]
  },
  {
   "cell_type": "code",
   "execution_count": 5,
   "metadata": {},
   "outputs": [
    {
     "output_type": "execute_result",
     "data": {
      "text/plain": [
       "['irisSVM.joblib']"
      ]
     },
     "metadata": {},
     "execution_count": 5
    }
   ],
   "source": [
    "from joblib import dump, load\n",
    "dump(clf, 'irisSVM.joblib') "
   ]
  },
  {
   "cell_type": "code",
   "execution_count": null,
   "metadata": {},
   "outputs": [],
   "source": [
    "def index():\n",
    "  payload = json.loads(request.get_data().decode('utf-8'))\n",
    "  prediction = predict(payload['payload'])\n",
    "  data = {}\n",
    "  data['data'] = prediction[-1]\n",
    "  return json.dumps(data)"
   ]
  },
  {
   "cell_type": "code",
   "execution_count": null,
   "metadata": {},
   "outputs": [],
   "source": []
  },
  {
   "cell_type": "code",
   "execution_count": 10,
   "metadata": {},
   "outputs": [
    {
     "output_type": "execute_result",
     "data": {
      "text/plain": [
       "SVC(C=1.0, break_ties=False, cache_size=200, class_weight=None, coef0=0.0,\n",
       "    decision_function_shape='ovr', degree=3, gamma='scale', kernel='rbf',\n",
       "    max_iter=-1, probability=False, random_state=None, shrinking=True,\n",
       "    tol=0.001, verbose=False)"
      ]
     },
     "metadata": {},
     "execution_count": 10
    }
   ],
   "source": [
    "import joblib\n",
    "joblib.load('irisSVM.pkl')"
   ]
  },
  {
   "source": [
    "## Flask\n",
    "\n",
    "Test the API locally\n",
    "\n",
    "`export FLASK_APP=predictions.py`\n",
    "\n",
    "`flask run`"
   ],
   "cell_type": "markdown",
   "metadata": {}
  },
  {
   "cell_type": "code",
   "execution_count": 18,
   "metadata": {},
   "outputs": [
    {
     "output_type": "stream",
     "name": "stderr",
     "text": [
      "'export' n'est pas reconnu en tant que commande interne\nou externe, un programme ex�cutable ou un fichier de commandes.\n"
     ]
    }
   ],
   "source": [
    "!export FLASK_APP=predictions.py"
   ]
  },
  {
   "source": [
    "## Zappa & Co"
   ],
   "cell_type": "markdown",
   "metadata": {}
  },
  {
   "cell_type": "code",
   "execution_count": 5,
   "metadata": {},
   "outputs": [],
   "source": [
    "# Zappa requires a virtual environment\n",
    "!python -m venv env"
   ]
  },
  {
   "cell_type": "code",
   "execution_count": 7,
   "metadata": {},
   "outputs": [
    {
     "output_type": "stream",
     "name": "stdout",
     "text": [
      "Requirement already satisfied: boto3 in c:\\users\\badmo\\appdata\\roaming\\python\\python37\\site-packages (from -r requirements.txt (line 1)) (1.13.6)\nRequirement already satisfied: flask in c:\\programdata\\anaconda3\\lib\\site-packages (from -r requirements.txt (line 2)) (1.1.1)\nCollecting sklearn\n  Downloading sklearn-0.0.tar.gz (1.1 kB)\nRequirement already satisfied: botocore<1.17.0,>=1.16.6 in c:\\users\\badmo\\appdata\\roaming\\python\\python37\\site-packages (from boto3->-r requirements.txt (line 1)) (1.16.6)\nRequirement already satisfied: jmespath<1.0.0,>=0.7.1 in c:\\programdata\\anaconda3\\lib\\site-packages (from boto3->-r requirements.txt (line 1)) (0.9.5)\nRequirement already satisfied: s3transfer<0.4.0,>=0.3.0 in c:\\users\\badmo\\appdata\\roaming\\python\\python37\\site-packages (from boto3->-r requirements.txt (line 1)) (0.3.3)\nRequirement already satisfied: Werkzeug>=0.15 in c:\\users\\badmo\\appdata\\roaming\\python\\python37\\site-packages (from flask->-r requirements.txt (line 2)) (0.16.1)\nRequirement already satisfied: click>=5.1 in c:\\programdata\\anaconda3\\lib\\site-packages (from flask->-r requirements.txt (line 2)) (7.0)\nRequirement already satisfied: itsdangerous>=0.24 in c:\\programdata\\anaconda3\\lib\\site-packages (from flask->-r requirements.txt (line 2)) (1.1.0)\nRequirement already satisfied: Jinja2>=2.10.1 in c:\\programdata\\anaconda3\\lib\\site-packages (from flask->-r requirements.txt (line 2)) (2.11.1)\nRequirement already satisfied: scikit-learn in c:\\programdata\\anaconda3\\lib\\site-packages (from sklearn->-r requirements.txt (line 3)) (0.22.1)\nRequirement already satisfied: python-dateutil<3.0.0,>=2.1 in c:\\programdata\\anaconda3\\lib\\site-packages (from botocore<1.17.0,>=1.16.6->boto3->-r requirements.txt (line 1)) (2.8.1)\nRequirement already satisfied: urllib3<1.26,>=1.20; python_version != \"3.4\" in c:\\programdata\\anaconda3\\lib\\site-packages (from botocore<1.17.0,>=1.16.6->boto3->-r requirements.txt (line 1)) (1.25.8)\nRequirement already satisfied: docutils<0.16,>=0.10 in c:\\users\\badmo\\appdata\\roaming\\python\\python37\\site-packages (from botocore<1.17.0,>=1.16.6->boto3->-r requirements.txt (line 1)) (0.15.2)\nRequirement already satisfied: MarkupSafe>=0.23 in c:\\programdata\\anaconda3\\lib\\site-packages (from Jinja2>=2.10.1->flask->-r requirements.txt (line 2)) (1.1.1)\nRequirement already satisfied: joblib>=0.11 in c:\\programdata\\anaconda3\\lib\\site-packages (from scikit-learn->sklearn->-r requirements.txt (line 3)) (0.14.1)\nRequirement already satisfied: scipy>=0.17.0 in c:\\programdata\\anaconda3\\lib\\site-packages (from scikit-learn->sklearn->-r requirements.txt (line 3)) (1.4.1)\nRequirement already satisfied: numpy>=1.11.0 in c:\\programdata\\anaconda3\\lib\\site-packages (from scikit-learn->sklearn->-r requirements.txt (line 3)) (1.18.1)\nRequirement already satisfied: six>=1.5 in c:\\programdata\\anaconda3\\lib\\site-packages (from python-dateutil<3.0.0,>=2.1->botocore<1.17.0,>=1.16.6->boto3->-r requirements.txt (line 1)) (1.14.0)\nBuilding wheels for collected packages: sklearn\n  Building wheel for sklearn (setup.py): started\n  Building wheel for sklearn (setup.py): finished with status 'done'\n  Created wheel for sklearn: filename=sklearn-0.0-py2.py3-none-any.whl size=1320 sha256=fc9e8328a1759c7cc89ebdff63321655c70c3f21a0d095ee3dea69650d4ad7b9\n  Stored in directory: c:\\users\\badmo\\appdata\\local\\pip\\cache\\wheels\\46\\ef\\c3\\157e41f5ee1372d1be90b09f74f82b10e391eaacca8f22d33e\nSuccessfully built sklearn\nInstalling collected packages: sklearn\nSuccessfully installed sklearn-0.0\n"
     ]
    }
   ],
   "source": [
    "!pip install -r requirements.txt"
   ]
  },
  {
   "source": [
    "Activate the environment to run Zappa\n",
    "`.\\env\\Scripts\\activate`"
   ],
   "cell_type": "markdown",
   "metadata": {}
  },
  {
   "cell_type": "code",
   "execution_count": 15,
   "metadata": {},
   "outputs": [],
   "source": [
    "# !zappa init"
   ]
  },
  {
   "source": [
    "AWS Lambda requires your environment to have a maximum size of 50mb, but our packaged environment will be around 100mb. Lucky for us, it is possible for Lambda’s to load code from Amazon S3 without much performance loss (only a few milliseconds).\n",
    "\n",
    "To activate this feature, you must add a new line to your [zappa_settings.json](zappa_settings.json)\n",
    "\n",
    "`\"slim_handler\": true`"
   ],
   "cell_type": "markdown",
   "metadata": {}
  },
  {
   "cell_type": "code",
   "execution_count": 17,
   "metadata": {},
   "outputs": [
    {
     "output_type": "stream",
     "name": "stdout",
     "text": [
      "(pip 20.0.2 (c:\\programdata\\anaconda3\\lib\\site-packages), Requirement.parse('pip>=20.1'), {'pip-tools'})\n",
      "Calling deploy for stage dev..\n",
      "Error: Zappa requires an active virtual environment!\n",
      "Learn more about virtual environments here: http://docs.python-guide.org/en/latest/dev/virtualenvs/\n"
     ]
    }
   ],
   "source": [
    "!zappa deploy dev"
   ]
  },
  {
   "source": [
    "## S3 bucket"
   ],
   "cell_type": "markdown",
   "metadata": {}
  },
  {
   "cell_type": "code",
   "execution_count": 22,
   "metadata": {},
   "outputs": [
    {
     "output_type": "stream",
     "name": "stdout",
     "text": [
      "2021-01-23 15:33:14     754785 dev_lambdaml_current_project.tar.gz\n"
     ]
    }
   ],
   "source": [
    "!aws s3 ls zappa-36d6b5iy7"
   ]
  },
  {
   "cell_type": "code",
   "execution_count": 19,
   "metadata": {},
   "outputs": [],
   "source": [
    "from boto.s3.key import Key\n",
    "from boto.s3.connection import S3Connection"
   ]
  },
  {
   "cell_type": "code",
   "execution_count": 20,
   "metadata": {},
   "outputs": [],
   "source": [
    "BUCKET_NAME = 'zappa-36d6b5iy7'"
   ]
  },
  {
   "cell_type": "code",
   "execution_count": 21,
   "metadata": {},
   "outputs": [
    {
     "output_type": "error",
     "ename": "S3ResponseError",
     "evalue": "S3ResponseError: 400 Bad Request\n<?xml version=\"1.0\" encoding=\"UTF-8\"?>\n<Error><Code>InvalidRequest</Code><Message>The authorization mechanism you have provided is not supported. Please use AWS4-HMAC-SHA256.</Message><RequestId>DACD663C789B2AF7</RequestId><HostId>LHUoL3q5zOxmaB5MZ+zLeLG9ld080DhGC+gqf4USDdjA8ofSUrK4YGHOlFY2gBwBNxjUOCtDbzk=</HostId></Error>",
     "traceback": [
      "\u001b[1;31m---------------------------------------------------------------------------\u001b[0m",
      "\u001b[1;31mS3ResponseError\u001b[0m                           Traceback (most recent call last)",
      "\u001b[1;32m<ipython-input-21-4b9de95987ba>\u001b[0m in \u001b[0;36m<module>\u001b[1;34m\u001b[0m\n\u001b[0;32m      1\u001b[0m \u001b[0mconn\u001b[0m \u001b[1;33m=\u001b[0m \u001b[0mS3Connection\u001b[0m\u001b[1;33m(\u001b[0m\u001b[1;33m)\u001b[0m\u001b[1;33m\u001b[0m\u001b[1;33m\u001b[0m\u001b[0m\n\u001b[1;32m----> 2\u001b[1;33m \u001b[0mbucket\u001b[0m \u001b[1;33m=\u001b[0m \u001b[0mconn\u001b[0m\u001b[1;33m.\u001b[0m\u001b[0mcreate_bucket\u001b[0m\u001b[1;33m(\u001b[0m\u001b[0mBUCKET_NAME\u001b[0m\u001b[1;33m)\u001b[0m\u001b[1;33m\u001b[0m\u001b[1;33m\u001b[0m\u001b[0m\n\u001b[0m",
      "\u001b[1;32mC:\\ProgramData\\Anaconda3\\lib\\site-packages\\boto\\s3\\connection.py\u001b[0m in \u001b[0;36mcreate_bucket\u001b[1;34m(self, bucket_name, headers, location, policy)\u001b[0m\n\u001b[0;32m    626\u001b[0m         \u001b[1;32melse\u001b[0m\u001b[1;33m:\u001b[0m\u001b[1;33m\u001b[0m\u001b[1;33m\u001b[0m\u001b[0m\n\u001b[0;32m    627\u001b[0m             raise self.provider.storage_response_error(\n\u001b[1;32m--> 628\u001b[1;33m                 response.status, response.reason, body)\n\u001b[0m\u001b[0;32m    629\u001b[0m \u001b[1;33m\u001b[0m\u001b[0m\n\u001b[0;32m    630\u001b[0m     \u001b[1;32mdef\u001b[0m \u001b[0mdelete_bucket\u001b[0m\u001b[1;33m(\u001b[0m\u001b[0mself\u001b[0m\u001b[1;33m,\u001b[0m \u001b[0mbucket\u001b[0m\u001b[1;33m,\u001b[0m \u001b[0mheaders\u001b[0m\u001b[1;33m=\u001b[0m\u001b[1;32mNone\u001b[0m\u001b[1;33m)\u001b[0m\u001b[1;33m:\u001b[0m\u001b[1;33m\u001b[0m\u001b[1;33m\u001b[0m\u001b[0m\n",
      "\u001b[1;31mS3ResponseError\u001b[0m: S3ResponseError: 400 Bad Request\n<?xml version=\"1.0\" encoding=\"UTF-8\"?>\n<Error><Code>InvalidRequest</Code><Message>The authorization mechanism you have provided is not supported. Please use AWS4-HMAC-SHA256.</Message><RequestId>DACD663C789B2AF7</RequestId><HostId>LHUoL3q5zOxmaB5MZ+zLeLG9ld080DhGC+gqf4USDdjA8ofSUrK4YGHOlFY2gBwBNxjUOCtDbzk=</HostId></Error>"
     ]
    }
   ],
   "source": [
    "conn = S3Connection()\n",
    "bucket = conn.create_bucket(BUCKET_NAME)"
   ]
  },
  {
   "cell_type": "code",
   "execution_count": null,
   "metadata": {},
   "outputs": [],
   "source": [
    "def load_model():\n",
    "  conn = S3Connection()\n",
    "  bucket = conn.create_bucket(BUCKET_NAME)\n",
    "  key_obj = Key(bucket)\n",
    "  key_obj.key = MODEL_FILE_NAME\n",
    "\n",
    "  contents = key_obj.get_contents_to_filename(MODEL_LOCAL_PATH)\n",
    "  return joblib.load(MODEL_LOCAL_PATH)"
   ]
  },
  {
   "source": [
    "Delete bucket"
   ],
   "cell_type": "markdown",
   "metadata": {}
  },
  {
   "cell_type": "code",
   "execution_count": 24,
   "metadata": {},
   "outputs": [
    {
     "output_type": "stream",
     "name": "stderr",
     "text": [
      "remove_bucket failed: s3://zappa-36d6b5iy7 An error occurred (BucketNotEmpty) when calling the DeleteBucket operation: The bucket you tried to delete is not empty\n"
     ]
    }
   ],
   "source": [
    "!aws s3 rb s3://zappa-36d6b5iy7"
   ]
  },
  {
   "cell_type": "code",
   "execution_count": 25,
   "metadata": {},
   "outputs": [
    {
     "output_type": "stream",
     "name": "stdout",
     "text": [
      "2021-01-23 15:33:14     754785 dev_lambdaml_current_project.tar.gz\n"
     ]
    }
   ],
   "source": [
    "!aws s3 ls s3://zappa-36d6b5iy7"
   ]
  },
  {
   "cell_type": "code",
   "execution_count": 28,
   "metadata": {},
   "outputs": [
    {
     "output_type": "stream",
     "name": "stdout",
     "text": [
      "delete: s3://zappa-36d6b5iy7/dev_lambdaml_current_project.tar.gz\n"
     ]
    }
   ],
   "source": [
    "!aws s3 rm s3://zappa-36d6b5iy7/dev_lambdaml_current_project.tar.gz"
   ]
  },
  {
   "cell_type": "code",
   "execution_count": 29,
   "metadata": {},
   "outputs": [
    {
     "output_type": "stream",
     "name": "stdout",
     "text": [
      "remove_bucket: zappa-36d6b5iy7\n"
     ]
    }
   ],
   "source": [
    "!aws s3 rb s3://zappa-36d6b5iy7"
   ]
  }
 ]
}